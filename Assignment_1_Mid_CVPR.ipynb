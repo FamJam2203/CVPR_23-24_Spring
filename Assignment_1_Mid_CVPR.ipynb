{
 "cells": [
  {
   "cell_type": "code",
   "execution_count": null,
   "id": "3fa272b5-8c4d-4f4b-8510-fd1a4a4fb317",
   "metadata": {},
   "outputs": [],
   "source": [
    "# List Operations\n",
    "# Create a list of integers containing numbers from 1 to 10.\n",
    "integer_list = list(range(1, 11))\n",
    "\n",
    "\n",
    "print(integer_list)"
   ]
  },
  {
   "cell_type": "code",
   "execution_count": null,
   "id": "1973723f-e882-4d2d-b299-4a9327d77c59",
   "metadata": {},
   "outputs": [],
   "source": [
    "# Create a list of integers containing numbers from 1 to 10\n",
    "numbers = list(range(1, 11))\n",
    "\n",
    "# Append the square of each number to the list\n",
    "squared_numbers = [num ** 2 for num in numbers]\n",
    "\n",
    "# Find and print the sum of all elements in the list\n",
    "sum_of_numbers = sum(squared_numbers)\n",
    "print(\"Sum of all elements in the list:\", sum_of_numbers)"
   ]
  },
  {
   "cell_type": "code",
   "execution_count": null,
   "id": "b227081c-bbaf-444f-971c-8b5082788f5f",
   "metadata": {},
   "outputs": [],
   "source": [
    "even_tuple = (2, 4, 6, 8, 10)\n",
    "\n",
    "\n",
    "tuple_product = 1\n",
    "for num in even_tuple:\n",
    "    tuple_product *= num\n",
    "print(\"Product of all elements in the tuple:\", tuple_product)\n"
   ]
  },
  {
   "cell_type": "code",
   "execution_count": null,
   "id": "c9250df7-82cc-40e9-a8cf-ccfea1c6d496",
   "metadata": {},
   "outputs": [],
   "source": [
    "odd_set1 = {1, 3, 5}\n",
    "odd_set2 = {5, 7, 9}\n",
    "\n",
    "\n",
    "union_set = odd_set1.union(odd_set2)\n",
    "print(\"Union of the two sets:\", union_set)\n",
    "\n",
    "intersection_set = odd_set1.intersection(odd_set2)\n",
    "print(\"Intersection of the two sets:\", intersection_set)"
   ]
  },
  {
   "cell_type": "code",
   "execution_count": null,
   "id": "bb607f4b-d112-4602-893b-24b90ab2fc78",
   "metadata": {},
   "outputs": [],
   "source": [
    "ascii_dict = {chr(i): i for i in range(97, 102)}\n",
    "\n",
    "print(\"Dictionary with lowercase alphabets as keys and ASCII values as values:\")\n",
    "print(ascii_dict)"
   ]
  },
  {
   "cell_type": "code",
   "execution_count": null,
   "id": "32df3ad3-5dd8-441a-9f69-b21d2daaf6ba",
   "metadata": {},
   "outputs": [],
   "source": [
    "def square(x):\n",
    "    return x ** 2\n",
    "\n",
    "mapped_result = list(map(square, range(1, 11)))\n",
    "print(\"Result of applying square function using map:\", mapped_result)"
   ]
  },
  {
   "cell_type": "code",
   "execution_count": null,
   "id": "879387a9-d4f6-4471-86fc-55b7775516e0",
   "metadata": {},
   "outputs": [],
   "source": []
  }
 ],
 "metadata": {
  "kernelspec": {
   "display_name": "Python 3 (ipykernel)",
   "language": "python",
   "name": "python3"
  },
  "language_info": {
   "codemirror_mode": {
    "name": "ipython",
    "version": 3
   },
   "file_extension": ".py",
   "mimetype": "text/x-python",
   "name": "python",
   "nbconvert_exporter": "python",
   "pygments_lexer": "ipython3",
   "version": "3.12.2"
  }
 },
 "nbformat": 4,
 "nbformat_minor": 5
}
